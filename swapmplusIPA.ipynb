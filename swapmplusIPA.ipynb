{
  "nbformat": 4,
  "nbformat_minor": 0,
  "metadata": {
    "colab": {
      "provenance": [],
      "gpuType": "T4"
    },
    "kernelspec": {
      "name": "python3",
      "display_name": "Python 3"
    },
    "language_info": {
      "name": "python"
    },
    "accelerator": "GPU"
  },
  "cells": [
    {
      "cell_type": "code",
      "execution_count": null,
      "metadata": {
        "id": "0KQKsNcR6hsU"
      },
      "outputs": [],
      "source": [
        "#@title setup env\n",
        "\n",
        "!pip install virtualenv\n",
        "\n",
        "!virtualenv swap\n",
        "\n",
        "!source /swap/bin/activate\n",
        "\n",
        "%cd /content/swap\n",
        "!git clone https://github.com/G-force78/Swapm\n",
        "\n",
        "%cd /content/swap/Swapm\n",
        "\n",
        "!pip install -r requirements.txt\n",
        "\n",
        "!pip install https://github.com/karaokenerds/python-audio-separator/releases/download/v0.12.1/onnxruntime_gpu-1.17.0-cp310-cp310-linux_x86_64.whl\n",
        "\n",
        "\n",
        "!git clone https://github.com/tencent-ailab/IP-Adapter\n",
        "!git clone https://github.com/yangxy/GPEN.git\n",
        "!pip install controlnet-aux==0.0.7\n",
        "!pip install diffusers\n",
        "!pip install moviepy\n",
        "!pip install argparse\n",
        "!pip install transformers\n",
        "!pip install accelerate\n",
        "!pip install gradio==3.50.2\n",
        "!pip install insightface\n",
        "!wget https://huggingface.co/h94/IP-Adapter-FaceID/resolve/main/ip-adapter-faceid-plus_sd15.bin\n",
        "!mv /content/swap/Swapm/IP-Adapter/ip_adapter /content/swap/Swapm"
      ]
    },
    {
      "cell_type": "code",
      "source": [
        "#@title download models\n",
        "\n",
        "!wget https://huggingface.co/datasets/OwlMaster/gg2/resolve/main/inswapper_128.onnx -O /content/swap/Swapm/assets/pretrained_models/inswapper_128.onnx\n",
        "\n",
        "!wget https://github.com/TencentARC/GFPGAN/releases/download/v1.3.0/GFPGANv1.4.pth -O /content/swap/Swapm/assets/pretrained_models/GFPGANv1.4.pth\n",
        "\n",
        "!wget https://huggingface.co/netrunner-exe/Face-Upscalers-onnx/resolve/main/GPEN-BFR-512.onnx -O /content/swap/Swapm/assets/pretrained_models/GPEN-BFR-512.onnx\n",
        "\n",
        "!wget https://huggingface.co/akhaliq/GPEN-BFR-512/resolve/main/GPEN-BFR-512.pth -O /content/swap/Swapm/assets/pretrained_models/GPEN-BFR-512.pth\n",
        "\n",
        "!wget https://public-vigen-video.oss-cn-shanghai.aliyuncs.com/robin/models/GPEN-BFR-256.pth -O /content/swap/Swapm/assets/pretrained_models/GPEN-BFR-256.pth\n",
        "\n",
        "!gdown https://drive.google.com/uc?id=154JgKpzCPW82qINcVieuPH3fZ2e0P812 -O /content/swap/Swapm/assets/pretrained_models/\n",
        "\n",
        "!wget https://huggingface.co/ai-forever/Real-ESRGAN/resolve/main/RealESRGAN_x2.pth -O /content/swap/Swapm/assets/pretrained_models/RealESRGAN_x2.pth\n",
        "\n",
        "!wget https://huggingface.co/ai-forever/Real-ESRGAN/resolve/main/RealESRGAN_x4.pth -O /content/swap/Swapm/assets/pretrained_models/RealESRGAN_x4.pth\n",
        "\n",
        "!wget https://huggingface.co/ai-forever/Real-ESRGAN/resolve/main/RealESRGAN_x8.pth -O /content/swap/Swapm/assets/pretrained_models/RealESRGAN_x8.pth\n",
        "\n",
        "!wget https://huggingface.co/bluefoxcreation/Codeformer-ONNX/resolve/main/codeformer.onnx -O /content/swap/Swapm/assets/pretrained_models/codeformer.onnx\n",
        "\n",
        "!wget https://huggingface.co/bluefoxcreation/open-nsfw/resolve/main/open-nsfw.onnx -O /content/swap/Swapm/assets/pretrained_models/open-nsfw.onnx"
      ],
      "metadata": {
        "id": "EEQODQUf80-h"
      },
      "execution_count": null,
      "outputs": []
    },
    {
      "cell_type": "code",
      "source": [
        "#@title change this first\n",
        "/usr/local/lib/python3.10/dist-packages/basicsr/data/degradations.py\n",
        "line 8 #from torchvision.transforms.functional_tensor import rgb_to_grayscale\n",
        "#to:\n",
        "\n",
        "#from torchvision.transforms.functional import rgb_to_grayscale"
      ],
      "metadata": {
        "id": "-wSPcNJ_9SOx"
      },
      "execution_count": null,
      "outputs": []
    },
    {
      "cell_type": "code",
      "source": [
        "#@title SWAP and IP\n",
        "%cd /content/swap/Swapm\n",
        "!mkdir /content/swap/Swapm/depthmaps\n",
        "!mkdir /content/gradio\n",
        "!python3 /content/swap/Swapm/swipFINALworkingv1.py --colab --cuda --batch_size 32"
      ],
      "metadata": {
        "id": "bTXMmHNi9XXB"
      },
      "execution_count": null,
      "outputs": []
    }
  ]
}